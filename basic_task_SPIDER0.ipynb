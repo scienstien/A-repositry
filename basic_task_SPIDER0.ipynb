{
  "cells": [
    {
      "cell_type": "markdown",
      "metadata": {
        "id": "view-in-github",
        "colab_type": "text"
      },
      "source": [
        "<a href=\"https://colab.research.google.com/github/scienstien/A-repositry/blob/main/basic_task_SPIDER0.ipynb\" target=\"_parent\"><img src=\"https://colab.research.google.com/assets/colab-badge.svg\" alt=\"Open In Colab\"/></a>"
      ]
    },
    {
      "cell_type": "code",
      "execution_count": 7,
      "metadata": {
        "colab": {
          "base_uri": "https://localhost:8080/"
        },
        "id": "RCngTvPhCAUr",
        "outputId": "a7917200-eef8-4d9c-8c8b-5e97ec75e712"
      },
      "outputs": [
        {
          "output_type": "stream",
          "name": "stdout",
          "text": [
            "Path to dataset files: /kaggle/input/vehicle-classification\n",
            "Files in dataset:\n",
            "['Vehicles']\n"
          ]
        }
      ],
      "source": [
        "\n",
        "import os\n",
        "import kagglehub\n",
        "\n",
        "#Download latest version\n",
        "path = kagglehub.dataset_download(\"mohamedmaher5/vehicle-classification\")\n",
        "\n",
        "print(\"Path to dataset files:\", path)\n",
        "print(\"Files in dataset:\")\n",
        "print(os.listdir(path))"
      ]
    },
    {
      "cell_type": "markdown",
      "metadata": {
        "id": "3vIUC2UeJqGz"
      },
      "source": [
        "# IMPORTS\n"
      ]
    },
    {
      "cell_type": "code",
      "execution_count": 3,
      "metadata": {
        "id": "VqzZnEL-JrzP"
      },
      "outputs": [],
      "source": [
        "import os\n",
        "import torch\n",
        "import torchvision\n",
        "import torchvision.transforms as transforms"
      ]
    },
    {
      "cell_type": "markdown",
      "metadata": {
        "id": "gQS41HMzKVtj"
      },
      "source": [
        "# Prepare Dataset\n"
      ]
    },
    {
      "cell_type": "code",
      "execution_count": 4,
      "metadata": {
        "id": "vinrXV57KiXr"
      },
      "outputs": [],
      "source": [
        "dataset_dir =  '/kaggle/input/vehicle-classification/Vehicles'\n",
        "\n",
        "# for root, dirs, files in os.walk(dataset_dir):\n",
        "#   print(f\"{root} has {len(files)} files.\")"
      ]
    },
    {
      "cell_type": "markdown",
      "metadata": {
        "id": "5rYOHpEJLSUe"
      },
      "source": [
        "# TRANSFORMS"
      ]
    },
    {
      "cell_type": "code",
      "execution_count": 5,
      "metadata": {
        "id": "c_C8O4AxKgC9"
      },
      "outputs": [],
      "source": [
        "transforms = transforms.Compose([\n",
        "    transforms.Resize(226),\n",
        "    transforms.CenterCrop(224),\n",
        "    transforms.ToTensor(),\n",
        "     transforms.Normalize(mean = [0.485, 0.456, 0.406],\n",
        "                          std = [0.229, 0.224, 0.225])\n",
        "\n",
        "])"
      ]
    },
    {
      "cell_type": "markdown",
      "metadata": {
        "id": "zI_-IMuvUiZg"
      },
      "source": [
        "# DATA LOADER\n"
      ]
    },
    {
      "cell_type": "code",
      "execution_count": 8,
      "metadata": {
        "id": "wP1YcYBvUmtL"
      },
      "outputs": [],
      "source": [
        "from torchvision import datasets, models\n",
        "from torch.utils.data import DataLoader\n",
        "\n",
        "dataset = datasets.ImageFolder(dataset_dir, transform=transforms)\n",
        "train_size = int(0.8 * len(dataset))\n",
        "val_size = len(dataset) - train_size\n",
        "\n",
        "train_dataset, val_dataset = torch.utils.data.random_split(dataset, [train_size,val_size])\n",
        "\n",
        "\n",
        "\n",
        "train_loader = DataLoader(train_dataset, batch_size=32, shuffle=True)\n",
        "val_loader = DataLoader(val_dataset, batch_size=32, shuffle=False)\n"
      ]
    },
    {
      "cell_type": "code",
      "execution_count": 9,
      "metadata": {
        "colab": {
          "base_uri": "https://localhost:8080/"
        },
        "id": "KRsJ6diTaFNk",
        "outputId": "27efa124-9559-4809-b0ff-425c71651633"
      },
      "outputs": [
        {
          "output_type": "execute_result",
          "data": {
            "text/plain": [
              "{'Auto Rickshaws': 0,\n",
              " 'Bikes': 1,\n",
              " 'Cars': 2,\n",
              " 'Motorcycles': 3,\n",
              " 'Planes': 4,\n",
              " 'Ships': 5,\n",
              " 'Trains': 6}"
            ]
          },
          "metadata": {},
          "execution_count": 9
        }
      ],
      "source": [
        "dataset.classes\n",
        "dataset.class_to_idx\n"
      ]
    },
    {
      "cell_type": "markdown",
      "metadata": {
        "id": "qz8-xke1YN3c"
      },
      "source": [
        "# RESNET MODEL"
      ]
    },
    {
      "cell_type": "code",
      "execution_count": 10,
      "metadata": {
        "colab": {
          "base_uri": "https://localhost:8080/"
        },
        "id": "Qt0Y01eVYNTI",
        "outputId": "aab30ff4-a41c-4072-d46a-8e1497558a2f"
      },
      "outputs": [
        {
          "output_type": "stream",
          "name": "stderr",
          "text": [
            "/usr/local/lib/python3.11/dist-packages/torchvision/models/_utils.py:208: UserWarning: The parameter 'pretrained' is deprecated since 0.13 and may be removed in the future, please use 'weights' instead.\n",
            "  warnings.warn(\n",
            "/usr/local/lib/python3.11/dist-packages/torchvision/models/_utils.py:223: UserWarning: Arguments other than a weight enum or `None` for 'weights' are deprecated since 0.13 and may be removed in the future. The current behavior is equivalent to passing `weights=ResNet18_Weights.IMAGENET1K_V1`. You can also use `weights=ResNet18_Weights.DEFAULT` to get the most up-to-date weights.\n",
            "  warnings.warn(msg)\n",
            "Downloading: \"https://download.pytorch.org/models/resnet18-f37072fd.pth\" to /root/.cache/torch/hub/checkpoints/resnet18-f37072fd.pth\n",
            "100%|██████████| 44.7M/44.7M [00:00<00:00, 182MB/s]\n"
          ]
        }
      ],
      "source": [
        "import torch\n",
        "import torch.nn as nn\n",
        "\n",
        "\n",
        "if torch.cuda.is_available():\n",
        "  device = torch.device('cuda')\n",
        "else :\n",
        "  device = torch.device('cpu')\n",
        "\n",
        "resnet_model = models.resnet18(pretrained = True)\n",
        "\n",
        "num_classes = len(dataset.classes)\n",
        "resnet_model.fc = nn.Linear(resnet_model.fc.in_features, num_classes)\n",
        "\n",
        "model = resnet_model.to(device)"
      ]
    },
    {
      "cell_type": "code",
      "execution_count": null,
      "metadata": {
        "collapsed": true,
        "id": "OSQ4dTiemD-9"
      },
      "outputs": [],
      "source": [
        "resnet_model.state_dict()"
      ]
    },
    {
      "cell_type": "markdown",
      "metadata": {
        "id": "PcJQUfAQlhmb"
      },
      "source": [
        "#LOSS AND OPTIMISERS FUNCTION"
      ]
    },
    {
      "cell_type": "code",
      "execution_count": null,
      "metadata": {
        "id": "g-TNmsxnY1u-"
      },
      "outputs": [],
      "source": [
        "loss_fn = nn.CrossEntropyLoss()\n",
        "optimiser = torch.optim.SGD(model.parameters(), lr=0.001, momentum=0.9)"
      ]
    },
    {
      "cell_type": "markdown",
      "metadata": {
        "id": "3uH4bnGknE32"
      },
      "source": [
        "# Training  LOOP"
      ]
    },
    {
      "cell_type": "code",
      "execution_count": null,
      "metadata": {
        "id": "J6bqX-SmnKj6"
      },
      "outputs": [],
      "source": [
        "epochs =  0\n",
        "for epoch in range(epochs) :\n",
        "  resnet_model.train()\n",
        "  for images, labels in train_loader:\n",
        "        images, labels = images.to(device), labels.to(device)\n",
        "  #forward pass\n",
        "  predicted_label = resnet_model(images)\n",
        "  # Calculate Losses\n",
        "  loss = loss_fn(predicted_label, labels)\n",
        "  #Zero GRAd\n",
        "  optimiser.zero_grad()\n",
        "  #Back Propogtion\n",
        "  loss.backward()\n",
        "  # step function\n",
        "  optimiser.step()\n",
        "\n"
      ]
    },
    {
      "cell_type": "markdown",
      "source": [
        "# Saving the model"
      ],
      "metadata": {
        "id": "5_Rl1Pu5Qwhl"
      }
    },
    {
      "cell_type": "code",
      "execution_count": 11,
      "metadata": {
        "colab": {
          "base_uri": "https://localhost:8080/"
        },
        "id": "XcaqdS1AnRqT",
        "outputId": "2e2e9002-4a2f-41d9-fa39-e7efd6073208"
      },
      "outputs": [
        {
          "output_type": "stream",
          "name": "stdout",
          "text": [
            "['.config', 'drive', 'models', 'sample_data']\n"
          ]
        }
      ],
      "source": [
        "from pathlib import Path\n",
        "MODEL_PATH = Path('models')\n",
        "MODEL_PATH.mkdir(parents = True , exist_ok = True)\n",
        "\n",
        "MODEL_NAME = \"basic_task_SPIDER.pth\"\n",
        "MODEL_SAVE_PATH = MODEL_PATH/MODEL_NAME\n",
        "print(os.listdir(torch.save(resnet_model.state_dict(), MODEL_SAVE_PATH)))\n"
      ]
    }
  ],
  "metadata": {
    "accelerator": "GPU",
    "colab": {
      "gpuType": "T4",
      "provenance": [],
      "mount_file_id": "1394yzT6GpfulozN2A5vdnT6BfTxhMLez",
      "authorship_tag": "ABX9TyNujWRDB+RAwfPhWGrj8PJe",
      "include_colab_link": true
    },
    "kernelspec": {
      "display_name": "Python 3",
      "name": "python3"
    },
    "language_info": {
      "name": "python"
    }
  },
  "nbformat": 4,
  "nbformat_minor": 0
}
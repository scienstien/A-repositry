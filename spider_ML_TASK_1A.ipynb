{
  "cells": [
    {
      "cell_type": "markdown",
      "metadata": {
        "id": "view-in-github",
        "colab_type": "text"
      },
      "source": [
        "<a href=\"https://colab.research.google.com/github/scienstien/Basics_Task/blob/main/spider_ML_TASK_1A.ipynb\" target=\"_parent\"><img src=\"https://colab.research.google.com/assets/colab-badge.svg\" alt=\"Open In Colab\"/></a>"
      ]
    },
    {
      "cell_type": "markdown",
      "metadata": {
        "id": "K6aIm76z3EuS"
      },
      "source": [
        "# Dataset and necessary imports"
      ]
    },
    {
      "cell_type": "code",
      "execution_count": 3,
      "metadata": {
        "id": "FcYTgiAyYmQ3",
        "colab": {
          "base_uri": "https://localhost:8080/"
        },
        "outputId": "3a9e4764-7322-4b03-da49-ef51c0d3e4b9"
      },
      "outputs": [
        {
          "output_type": "stream",
          "name": "stderr",
          "text": [
            "100%|██████████| 9.91M/9.91M [00:00<00:00, 32.2MB/s]\n",
            "100%|██████████| 28.9k/28.9k [00:00<00:00, 1.20MB/s]\n",
            "100%|██████████| 1.65M/1.65M [00:00<00:00, 9.32MB/s]\n",
            "100%|██████████| 4.54k/4.54k [00:00<00:00, 5.66MB/s]\n"
          ]
        }
      ],
      "source": [
        "import torch\n",
        "import torchvision\n",
        "import torchvision.transforms as transforms\n",
        "import torchvision.datasets as datasets\n",
        "\n",
        "transform = transforms.Compose(\n",
        "    [transforms.ToTensor(),\n",
        "     transforms.Normalize((0.5,), (0.5,))])\n",
        "\n",
        "\n",
        "\n",
        "train_set = datasets.MNIST(root = './my_data', train = True, download = True, transform = transform)\n",
        "train_loader = torch.utils.data.DataLoader(train_set, batch_size = 20, shuffle = True)\n",
        "test_set = datasets.MNIST(root = './my_data', train = False, download = True, transform = transform)\n",
        "test_loader = torch.utils.data.DataLoader(test_set, batch_size = 20, shuffle = True )\n",
        "\n",
        "\n",
        "classes = ('0','1', '2', '3', '4', '5', '6', '7', '8', '9')"
      ]
    },
    {
      "cell_type": "markdown",
      "metadata": {
        "id": "a3IUTa1T3XHL"
      },
      "source": [
        "# Defining a SKIP_NET MODEL model\n"
      ]
    },
    {
      "cell_type": "code",
      "execution_count": 4,
      "metadata": {
        "colab": {
          "base_uri": "https://localhost:8080/"
        },
        "id": "68qG_8WI509E",
        "outputId": "4b30fbf6-d777-46f5-d894-5e3398827061"
      },
      "outputs": [
        {
          "output_type": "stream",
          "name": "stdout",
          "text": [
            "60000 10000\n"
          ]
        }
      ],
      "source": [
        "print(len(train_set), len(test_set))"
      ]
    },
    {
      "cell_type": "markdown",
      "metadata": {
        "id": "DqJ7nuAa50tl"
      },
      "source": []
    },
    {
      "cell_type": "code",
      "execution_count": 5,
      "metadata": {
        "id": "2ujykcFk3OFi"
      },
      "outputs": [],
      "source": [
        "# import torch.nn as nn\n",
        "# import torch.nn.functional as F\n",
        "\n",
        "# class My_Model(torch.nn.Module):\n",
        "#     def __init__(self):\n",
        "#         super().__init__()\n",
        "#         self.conv1 = nn.Conv2d(1, 6, 5)\n",
        "#         self.pool = nn.MaxPool2d(2, 2)\n",
        "#         self.conv2 = nn.Conv2d(6, 16, 5)\n",
        "#         self.fc1 = nn.Linear(16 * 4 * 4, 120)\n",
        "#         self.fc2 = nn.Linear(120, 84)\n",
        "#         self.fc3 = nn.Linear(84, 10)\n",
        "\n",
        "#     def forward(self, x):\n",
        "#         x = self.pool(F.relu(self.conv1(x)))\n",
        "#         x = self.pool(F.relu(self.conv2(x)))\n",
        "#         x = torch.flatten(x, 1)\n",
        "#         x = F.relu(self.fc1(x))\n",
        "#         x = F.relu(self.fc2(x))\n",
        "#         x = self.fc3(x)\n",
        "#         return x\n",
        "\n",
        "# model_0 = My_Model()"
      ]
    },
    {
      "cell_type": "code",
      "source": [
        "import torch.nn as nn\n",
        "import torch.nn.functional as F\n",
        "\n",
        "class SkipNEt(nn.Module):\n",
        "  def __init__(self):\n",
        "    super(SkipNEt, self).__init__()\n",
        "    self.Flatten = nn.Flatten()\n",
        "    self.fc1 = nn.Linear(784, 16)\n",
        "    self.left1 = nn.Linear(16, 8)\n",
        "    self.right1 = nn.Linear(16, 12)\n",
        "    self.left2 = nn.Linear(8,8)\n",
        "    self.right2 = nn.Linear(12,8)\n",
        "    self.fc2 = nn.Linear(16,47)\n",
        "  def forward(self, x):\n",
        "    x = self.Flatten(x)\n",
        "    x = F.relu(self.fc1(x))\n",
        "    l1 = F.relu(self.left1(x))\n",
        "    r1 = F.relu(self.right1(x))\n",
        "    l2 = F.relu(self.left2(l1))\n",
        "    r2 = F.relu(self.right2(r1))\n",
        "\n",
        "    l_out = l1 + l2\n",
        "    out_put = torch.cat((l_out, r2), 1)\n",
        "    out_put = self.fc2(out_put)\n",
        "    return out_put\n",
        "\n",
        "model_0 = SkipNEt()"
      ],
      "metadata": {
        "id": "HeUGp8uTBgAT"
      },
      "execution_count": 6,
      "outputs": []
    },
    {
      "cell_type": "markdown",
      "metadata": {
        "id": "zkh8Ky7c3-IL"
      },
      "source": [
        "# Loss and Optimiser fnc\n"
      ]
    },
    {
      "cell_type": "code",
      "execution_count": 7,
      "metadata": {
        "id": "lYMmURaj39vx"
      },
      "outputs": [],
      "source": [
        "import torch.optim as optim\n",
        "\n",
        "loss_fn = nn.CrossEntropyLoss()\n",
        "optimizer = optim.Adam(model_0.parameters(), lr = 0.01,)"
      ]
    },
    {
      "cell_type": "markdown",
      "metadata": {
        "id": "qihlyHaw4zxz"
      },
      "source": [
        "# Training the model"
      ]
    },
    {
      "cell_type": "code",
      "execution_count": 13,
      "metadata": {
        "colab": {
          "base_uri": "https://localhost:8080/",
          "height": 1000
        },
        "id": "iJ7gZLeg4TBS",
        "outputId": "bb2bca99-eb7f-4ea4-fa85-bb60fbd066c9"
      },
      "outputs": [
        {
          "output_type": "stream",
          "name": "stdout",
          "text": [
            "[1,     1] loss: 0.002\n",
            "[1,   201] loss: 0.472\n",
            "[1,   401] loss: 0.438\n",
            "[1,   601] loss: 0.466\n",
            "[1,   801] loss: 0.484\n",
            "[1,  1001] loss: 0.451\n",
            "[1,  1201] loss: 0.466\n",
            "[1,  1401] loss: 0.426\n",
            "[1,  1601] loss: 0.432\n",
            "[1,  1801] loss: 0.441\n",
            "[1,  2001] loss: 0.479\n",
            "[1,  2201] loss: 0.451\n",
            "[1,  2401] loss: 0.475\n",
            "[1,  2601] loss: 0.451\n",
            "[1,  2801] loss: 0.458\n",
            "[2,     1] loss: 0.002\n",
            "[2,   201] loss: 0.393\n",
            "[2,   401] loss: 0.430\n",
            "[2,   601] loss: 0.395\n",
            "[2,   801] loss: 0.466\n",
            "[2,  1001] loss: 0.446\n",
            "[2,  1201] loss: 0.437\n",
            "[2,  1401] loss: 0.460\n",
            "[2,  1601] loss: 0.439\n",
            "[2,  1801] loss: 0.398\n",
            "[2,  2001] loss: 0.475\n",
            "[2,  2201] loss: 0.465\n",
            "[2,  2401] loss: 0.446\n",
            "[2,  2601] loss: 0.439\n",
            "[2,  2801] loss: 0.418\n",
            "[3,     1] loss: 0.001\n",
            "[3,   201] loss: 0.396\n",
            "[3,   401] loss: 0.400\n",
            "[3,   601] loss: 0.429\n",
            "[3,   801] loss: 0.405\n",
            "[3,  1001] loss: 0.378\n",
            "[3,  1201] loss: 0.429\n",
            "[3,  1401] loss: 0.415\n",
            "[3,  1601] loss: 0.408\n",
            "[3,  1801] loss: 0.432\n",
            "[3,  2001] loss: 0.424\n",
            "[3,  2201] loss: 0.441\n",
            "[3,  2401] loss: 0.414\n",
            "[3,  2601] loss: 0.455\n",
            "[3,  2801] loss: 0.446\n",
            "[4,     1] loss: 0.000\n",
            "[4,   201] loss: 0.410\n",
            "[4,   401] loss: 0.436\n",
            "[4,   601] loss: 0.437\n",
            "[4,   801] loss: 0.405\n",
            "[4,  1001] loss: 0.438\n",
            "[4,  1201] loss: 0.432\n",
            "[4,  1401] loss: 0.428\n",
            "[4,  1601] loss: 0.431\n",
            "[4,  1801] loss: 0.428\n",
            "[4,  2001] loss: 0.396\n",
            "[4,  2201] loss: 0.434\n",
            "[4,  2401] loss: 0.396\n",
            "[4,  2601] loss: 0.414\n",
            "[4,  2801] loss: 0.412\n",
            "[5,     1] loss: 0.002\n",
            "[5,   201] loss: 0.403\n",
            "[5,   401] loss: 0.386\n",
            "[5,   601] loss: 0.417\n",
            "[5,   801] loss: 0.406\n",
            "[5,  1001] loss: 0.429\n",
            "[5,  1201] loss: 0.420\n",
            "[5,  1401] loss: 0.444\n",
            "[5,  1601] loss: 0.411\n",
            "[5,  1801] loss: 0.468\n",
            "[5,  2001] loss: 0.406\n",
            "[5,  2201] loss: 0.436\n",
            "[5,  2401] loss: 0.449\n",
            "[5,  2601] loss: 0.411\n",
            "[5,  2801] loss: 0.415\n"
          ]
        },
        {
          "output_type": "display_data",
          "data": {
            "text/plain": [
              "<Figure size 640x480 with 1 Axes>"
            ],
            "image/png": "[encoded data removed]"
          },
          "metadata": {}
        },
        {
          "output_type": "stream",
          "name": "stdout",
          "text": [
            "Finished Training\n"
          ]
        }
      ],
      "source": [
        "import numpy as np\n",
        "import matplotlib.pyplot as plt\n",
        "\n",
        "\n",
        "\n",
        "\n",
        "accuracy_list = []\n",
        "epoch_loss_list = []\n",
        "epoch_num = []\n",
        "epochs = 5\n",
        "for epoch in range(epochs) :\n",
        "    model_0.train()\n",
        "    running_loss = 0.0\n",
        "    epoch_loss = 0.0\n",
        "    correct = 0\n",
        "    total = 0\n",
        "\n",
        "    for i, data in enumerate(train_loader, 0):\n",
        "        # get the inputs; data is a list of [inputs, labels]\n",
        "        inputs, labels = data\n",
        "\n",
        "\n",
        "        # Forward propogation\n",
        "        outputs = model_0(inputs)\n",
        "        #loss Fnc\n",
        "        loss = loss_fn(outputs, labels)\n",
        "        # zero Grad\n",
        "        optimizer.zero_grad()\n",
        "        #backprop\n",
        "        loss.backward()\n",
        "        #update weights\n",
        "        optimizer.step()\n",
        "\n",
        "        running_loss += loss.item()\n",
        "        if i % 200 == 0 :\n",
        "            print(f'[{epoch + 1}, {i + 1:5d}] loss: {running_loss / 200:.3f}')\n",
        "            running_loss = 0.0\n",
        "        epoch_loss += loss.item()\n",
        "        _, predicted = torch.max(outputs, 1)\n",
        "        total += labels.size(0)\n",
        "        correct += (predicted == labels).sum().item()\n",
        "        accuracy = 100 * correct / total\n",
        "        avg_accuracy = accuracy / len(train_loader)\n",
        "\n",
        "    accuracy_list.append(accuracy)\n",
        "    epoch_loss_list.append(epoch_loss)\n",
        "    epoch_num.append(epoch + 1)\n",
        "\n",
        "\n",
        "\n",
        "\n",
        "plt.plot(epoch_num, accuracy_list, label = 'Accuracy')\n",
        "plt.plot(epoch_num, epoch_loss_list, label = 'Loss')\n",
        "plt.xlabel('Epoch')\n",
        "plt.ylabel('Accuracy/Loss')\n",
        "plt.legend()\n",
        "plt.grid(True)\n",
        "\n",
        "plt.show()\n",
        "print('Finished Training')"
      ]
    },
    {
      "cell_type": "markdown",
      "metadata": {
        "id": "wqJz-ui5P5aU"
      },
      "source": [
        "# Saving the model weights\n"
      ]
    },
    {
      "cell_type": "code",
      "execution_count": 9,
      "metadata": {
        "id": "OB5rkem2PWMA"
      },
      "outputs": [],
      "source": [
        "import pickle\n",
        "\n",
        "\n",
        "pickle.dump(model_0, open('model.pkl', 'wb'))"
      ]
    },
    {
      "cell_type": "markdown",
      "metadata": {
        "id": "c36rarZ28DYe"
      },
      "source": [
        "# Visually testing if the model is working"
      ]
    },
    {
      "cell_type": "code",
      "execution_count": 10,
      "metadata": {
        "colab": {
          "base_uri": "https://localhost:8080/",
          "height": 305
        },
        "id": "TBKv5TyU7iZj",
        "outputId": "6499c6d7-8d48-4007-ed78-745f7f9e74ad"
      },
      "outputs": [
        {
          "output_type": "display_data",
          "data": {
            "text/plain": [
              "<Figure size 640x480 with 1 Axes>"
            ],
            "image/png": "[encoded data removed]"
          },
          "metadata": {}
        },
        {
          "output_type": "stream",
          "name": "stdout",
          "text": [
            "Ground Truth is [0, 5, 0, 3]\n",
            "Accuracy of model_0 on the test images87.66 %\n",
            "Predicted:  [0, 7, 0, 3]\n"
          ]
        }
      ],
      "source": [
        "import matplotlib.pyplot as plt\n",
        "import numpy as np\n",
        "\n",
        "\n",
        "def imshow(img):\n",
        "    img = img * 0.5 + 0.5\n",
        "    npimg = img.numpy()\n",
        "    plt.imshow(np.transpose(npimg, (1, 2, 0)), cmap='gray')\n",
        "    plt.show()\n",
        "\n",
        "\n",
        "for images, labels in test_loader:\n",
        "\n",
        "\n",
        "    model_0.eval()\n",
        "    with torch.inference_mode() :\n",
        "      correct = 0\n",
        "      total = 0\n",
        "      for images, labels in test_loader:\n",
        "          outputs = model_0(images)\n",
        "          _, predicted = torch.max(outputs, 1)\n",
        "          total += labels.size(0)\n",
        "          correct += (predicted == labels).sum().item()\n",
        "          accuracy = 100 * correct / total\n",
        "      imshow(torchvision.utils.make_grid(images))\n",
        "      ground_truth = [labels[j].item() for j in range(4)]\n",
        "      print(f'Ground Truth is {ground_truth}')\n",
        "      print(f'Accuracy of model_0 on the test images{accuracy} %')\n",
        "      predicted_lbl = [predicted[j].item() for j in range(4)]\n",
        "      print('Predicted: ', predicted_lbl)\n",
        "      break\n"
      ]
    },
    {
      "cell_type": "markdown",
      "metadata": {
        "id": "AWwlDSOHV5VI"
      },
      "source": [
        "# Applying it on the entire dataset\n"
      ]
    },
    {
      "cell_type": "code",
      "execution_count": 11,
      "metadata": {
        "colab": {
          "base_uri": "https://localhost:8080/"
        },
        "id": "-q9iQZHaSuWS",
        "outputId": "eff64579-93be-4bda-db29-967aef078064"
      },
      "outputs": [
        {
          "output_type": "stream",
          "name": "stdout",
          "text": [
            "Accuracy 87.66\n",
            "Accuracy of 0: 98.57 %\n",
            "Accuracy of 1: 95.15 %\n",
            "Accuracy of 2: 92.05 %\n",
            "Accuracy of 3: 89.90 %\n",
            "Accuracy of 4: 77.80 %\n",
            "Accuracy of 5: 71.30 %\n",
            "Accuracy of 6: 90.29 %\n",
            "Accuracy of 7: 92.22 %\n",
            "Accuracy of 8: 78.54 %\n",
            "Accuracy of 9: 87.61 %\n"
          ]
        }
      ],
      "source": [
        "import torch\n",
        "import pickle\n",
        "model_1 = pickle.load(open('model.pkl', 'rb'))\n",
        "\n",
        "\n",
        "class_correct = list(0. for i in range(10))\n",
        "class_total = list(0. for i in range(10))\n",
        "\n",
        "model_1.eval()\n",
        "predicted_labels = []\n",
        "correct = 0\n",
        "total = 0\n",
        "with torch.inference_mode():\n",
        "    for images, labels in test_loader:\n",
        "\n",
        "        outputs = model_1(images)\n",
        "        _, predicted = torch.max(outputs, 1)\n",
        "        total += labels.size(0)\n",
        "        correct += (predicted == labels).sum().item()\n",
        "        test_accuracy = 100 * correct / total\n",
        "        c = (predicted == labels).squeeze()\n",
        "        predicted_labels.extend(predicted.cpu().numpy())\n",
        "\n",
        "        for i in range(len(labels)):\n",
        "            label = labels[i]\n",
        "            class_correct[label] += c[i].item()\n",
        "            class_total[label] += 1\n",
        "print(f'Overall Accuracy on 10000 test images is {test_accuracy}')\n",
        "for i in range(10):\n",
        "    if class_total[i] > 0:\n",
        "        print(f'Accuracy of {i}: {100 * class_correct[i] / class_total[i]:.2f} %')\n",
        "    else:\n",
        "        print(f'No samples for class {i}')\n"
      ]
    },
    {
      "cell_type": "code",
      "source": [
        "import pandas as pd\n",
        "\n",
        "\n",
        "submission_df = pd.DataFrame({\n",
        "    'Id': range(len(predicted_labels)),\n",
        "    'Labels': predicted_labels\n",
        "})\n",
        "\n",
        "submission_df.to_csv('submission.csv', index=False)\n",
        "\n",
        "print(\"✅ submission.csv generated successfully!\")"
      ],
      "metadata": {
        "colab": {
          "base_uri": "https://localhost:8080/"
        },
        "id": "cku9rpvfUlI_",
        "outputId": "c63bebda-0e11-4bfe-da77-5d5ff05748f1"
      },
      "execution_count": 14,
      "outputs": [
        {
          "output_type": "stream",
          "name": "stdout",
          "text": [
            "✅ submission.csv generated successfully!\n"
          ]
        }
      ]
    }
  ],
  "metadata": {
    "accelerator": "GPU",
    "colab": {
      "gpuType": "T4",
      "provenance": [],
      "authorship_tag": "ABX9TyMpFo6EnITTyf21awv0KWj0",
      "include_colab_link": true
    },
    "kernelspec": {
      "display_name": "Python 3",
      "name": "python3"
    },
    "language_info": {
      "name": "python"
    }
  },
  "nbformat": 4,
  "nbformat_minor": 0
}